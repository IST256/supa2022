{
 "cells": [
  {
   "cell_type": "markdown",
   "metadata": {},
   "source": [
    "# Watch Me Code 2: Ways to send data over HTTP \n",
    "\n",
    "Examples using the httpbin.org service\n",
    "\n",
    "https://httpbin.org/\n"
   ]
  },
  {
   "cell_type": "code",
   "execution_count": 1,
   "metadata": {},
   "outputs": [],
   "source": [
    "import requests"
   ]
  },
  {
   "cell_type": "code",
   "execution_count": 2,
   "metadata": {},
   "outputs": [
    {
     "data": {
      "text/plain": [
       "{'args': {'age': '45', 'name': 'mike'},\n",
       " 'headers': {'Accept': '*/*',\n",
       "  'Accept-Encoding': 'gzip, deflate',\n",
       "  'Host': 'httpbin.org',\n",
       "  'User-Agent': 'python-requests/2.22.0'},\n",
       " 'origin': '71.176.79.102, 71.176.79.102',\n",
       " 'url': 'https://httpbin.org/get?name=mike&age=45'}"
      ]
     },
     "execution_count": 2,
     "metadata": {},
     "output_type": "execute_result"
    }
   ],
   "source": [
    "# In the URL query string, HTTP GET\n",
    "url = \"https://httpbin.org/get?name=mike&age=45\"\n",
    "response = requests.get(url)\n",
    "response.json()\n"
   ]
  },
  {
   "cell_type": "code",
   "execution_count": 3,
   "metadata": {},
   "outputs": [
    {
     "data": {
      "text/plain": [
       "{'args': {'age': '45', 'name': 'mike'},\n",
       " 'headers': {'Accept': '*/*',\n",
       "  'Accept-Encoding': 'gzip, deflate',\n",
       "  'Host': 'httpbin.org',\n",
       "  'User-Agent': 'python-requests/2.22.0'},\n",
       " 'origin': '71.176.79.102, 71.176.79.102',\n",
       " 'url': 'https://httpbin.org/get?name=mike&age=45'}"
      ]
     },
     "execution_count": 3,
     "metadata": {},
     "output_type": "execute_result"
    }
   ],
   "source": [
    "# same example but don't create the querystring by hand. use a dict\n",
    "querystring = { 'name' : 'mike', 'age' : 45 }\n",
    "url = \"http://httpbin.org/get\"\n",
    "response = requests.get(url, params = querystring)\n",
    "response.json()"
   ]
  },
  {
   "cell_type": "code",
   "execution_count": 8,
   "metadata": {},
   "outputs": [
    {
     "data": {
      "text/plain": [
       "{'args': {},\n",
       " 'headers': {'Accept': '*/*',\n",
       "  'Accept-Encoding': 'gzip, deflate',\n",
       "  'Api-Key': 'testing',\n",
       "  'Host': 'httpbin.org',\n",
       "  'Id': '345876',\n",
       "  'User-Agent': 'python-requests/2.22.0'},\n",
       " 'origin': '71.176.79.102, 71.176.79.102',\n",
       " 'url': 'https://httpbin.org/get'}"
      ]
     },
     "execution_count": 8,
     "metadata": {},
     "output_type": "execute_result"
    }
   ],
   "source": [
    "# make a request, adding data to the header\n",
    "\n",
    "# NOTE: all header values MUST be strings!!! AND they are case-insensitive as per the HTTP protocol spec.\n",
    "header = { 'api-key' : 'testing', 'id' : '345876' }\n",
    "url = \"http://httpbin.org/get\"\n",
    "response = requests.get(url, headers = header)\n",
    "response.json()"
   ]
  },
  {
   "cell_type": "code",
   "execution_count": 9,
   "metadata": {},
   "outputs": [
    {
     "data": {
      "text/plain": [
       "{'args': {'age': '45', 'name': 'mike'},\n",
       " 'headers': {'Accept': '*/*',\n",
       "  'Accept-Encoding': 'gzip, deflate',\n",
       "  'Api-Key': 'demo',\n",
       "  'Host': 'httpbin.org',\n",
       "  'User-Agent': 'python-requests/2.22.0'},\n",
       " 'origin': '71.176.79.102, 71.176.79.102',\n",
       " 'url': 'https://httpbin.org/get?name=mike&age=45'}"
      ]
     },
     "execution_count": 9,
     "metadata": {},
     "output_type": "execute_result"
    }
   ],
   "source": [
    "# here's a combination of querystring plus headers:\n",
    "querystring = { 'name' : 'mike', 'age' : 45 }\n",
    "header = { 'api-key' : 'demo'}\n",
    "url = \"http://httpbin.org/get\"\n",
    "response = requests.get(url, params = querystring, headers = header)\n",
    "response.json()"
   ]
  },
  {
   "cell_type": "code",
   "execution_count": 13,
   "metadata": {},
   "outputs": [
    {
     "data": {
      "text/plain": [
       "{'args': {},\n",
       " 'data': 'this is a lot of data.this is a lot of data.this is a lot of data.this is a lot of data.this is a lot of data.this is a lot of data.this is a lot of data.',\n",
       " 'files': {},\n",
       " 'form': {},\n",
       " 'headers': {'Accept': '*/*',\n",
       "  'Accept-Encoding': 'gzip, deflate',\n",
       "  'Content-Length': '154',\n",
       "  'Host': 'httpbin.org',\n",
       "  'User-Agent': 'python-requests/2.22.0'},\n",
       " 'json': None,\n",
       " 'origin': '71.176.79.102, 71.176.79.102',\n",
       " 'url': 'https://httpbin.org/post'}"
      ]
     },
     "execution_count": 13,
     "metadata": {},
     "output_type": "execute_result"
    }
   ],
   "source": [
    "# here's an example of a post\n",
    "payload = \"this is a lot of data.this is a lot of data.this is a lot of data.this is a lot of data.this is a lot of data.this is a lot of data.this is a lot of data.\"\n",
    "url = \"http://httpbin.org/post\"\n",
    "response = requests.post(url, data = payload)\n",
    "response.json()"
   ]
  },
  {
   "cell_type": "code",
   "execution_count": 14,
   "metadata": {},
   "outputs": [
    {
     "data": {
      "text/plain": [
       "{'args': {},\n",
       " 'data': '',\n",
       " 'files': {},\n",
       " 'form': {'age': '45', 'name': 'Mike', 'status': 'married'},\n",
       " 'headers': {'Accept': '*/*',\n",
       "  'Accept-Encoding': 'gzip, deflate',\n",
       "  'Content-Length': '31',\n",
       "  'Content-Type': 'application/x-www-form-urlencoded',\n",
       "  'Host': 'httpbin.org',\n",
       "  'User-Agent': 'python-requests/2.22.0'},\n",
       " 'json': None,\n",
       " 'origin': '71.176.79.102, 71.176.79.102',\n",
       " 'url': 'https://httpbin.org/post'}"
      ]
     },
     "execution_count": 14,
     "metadata": {},
     "output_type": "execute_result"
    }
   ],
   "source": [
    "# here's another post, with a python dict, because there are key-values the post uses form.\n",
    "person = { 'name' : 'Mike', 'age' : 45, 'status' :  'married' }\n",
    "url = \"http://httpbin.org/post\"\n",
    "response = requests.post(url, data = person)\n",
    "response.json()"
   ]
  },
  {
   "cell_type": "code",
   "execution_count": 15,
   "metadata": {},
   "outputs": [
    {
     "data": {
      "text/plain": [
       "{'args': {'id': '1'},\n",
       " 'data': '',\n",
       " 'files': {},\n",
       " 'form': {'age': '45', 'name': 'Mike', 'status': 'married'},\n",
       " 'headers': {'Accept': '*/*',\n",
       "  'Accept-Encoding': 'gzip, deflate',\n",
       "  'Api-Key': '32871549',\n",
       "  'Content-Length': '31',\n",
       "  'Content-Type': 'application/x-www-form-urlencoded',\n",
       "  'Host': 'httpbin.org',\n",
       "  'User-Agent': 'demo'},\n",
       " 'json': None,\n",
       " 'origin': '71.176.79.102, 71.176.79.102',\n",
       " 'url': 'https://httpbin.org/post?id=1'}"
      ]
     },
     "execution_count": 15,
     "metadata": {},
     "output_type": "execute_result"
    }
   ],
   "source": [
    "# this one uses a POST, payload, querystring and headers to show these can all be combined!\n",
    "person = { 'name' : 'Mike', 'age' : 45, 'status' :  'married' }\n",
    "header = { 'api-key' : '32871549', 'user-agent' : 'demo' }\n",
    "querystring = { 'id' : 1 }\n",
    "url = \"http://httpbin.org/post\"\n",
    "response = requests.post(url, data = person, params = querystring, headers=header )\n",
    "response.json()\n"
   ]
  },
  {
   "cell_type": "code",
   "execution_count": null,
   "metadata": {},
   "outputs": [],
   "source": []
  }
 ],
 "metadata": {
  "anaconda-cloud": {},
  "kernelspec": {
   "display_name": "Python 3",
   "language": "python",
   "name": "python3"
  },
  "language_info": {
   "codemirror_mode": {
    "name": "ipython",
    "version": 3
   },
   "file_extension": ".py",
   "mimetype": "text/x-python",
   "name": "python",
   "nbconvert_exporter": "python",
   "pygments_lexer": "ipython3",
   "version": "3.6.6"
  },
  "toc": {
   "base_numbering": 1,
   "nav_menu": {},
   "number_sections": false,
   "sideBar": false,
   "skip_h1_title": false,
   "title_cell": "Table of Contents",
   "title_sidebar": "Contents",
   "toc_cell": false,
   "toc_position": {},
   "toc_section_display": false,
   "toc_window_display": false
  }
 },
 "nbformat": 4,
 "nbformat_minor": 1
}
