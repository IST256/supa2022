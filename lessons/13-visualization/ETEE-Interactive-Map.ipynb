{
 "cells": [
  {
   "cell_type": "markdown",
   "metadata": {},
   "source": [
    "# End-To-End Example: Zomato Map\n",
    "\n",
    "Let's import our zomato functions and then use folium to plot restaurants on a map.\n",
    "\n"
   ]
  },
  {
   "cell_type": "code",
   "execution_count": 1,
   "metadata": {},
   "outputs": [
    {
     "name": "stdout",
     "output_type": "stream",
     "text": [
      "importing Jupyter notebook from zomato.ipynb\n"
     ]
    }
   ],
   "source": [
    "import requests \n",
    "import pandas as pd\n",
    "import folium\n",
    "import import_ipynb\n",
    "import zomato as zomato\n",
    "from IPython.display import display, HTML\n",
    "from ipywidgets import interact, interactive, fixed, interact_manual\n",
    "import ipywidgets as widgets"
   ]
  },
  {
   "cell_type": "code",
   "execution_count": 2,
   "metadata": {},
   "outputs": [],
   "source": [
    "zomato_key = '5aee574594af0c43a13d8f5e81744b73'"
   ]
  },
  {
   "cell_type": "code",
   "execution_count": 3,
   "metadata": {},
   "outputs": [],
   "source": [
    "def geocode(location):\n",
    "    '''\n",
    "    using geocoding here: https://nominatim.openstreetmap.org/search\n",
    "    '''\n",
    "    query_string = {'q' : location, 'format' :'json'}\n",
    "    url = 'https://nominatim.openstreetmap.org/search'\n",
    "    response = requests.get(url, params = query_string)\n",
    "    data = response.json()\n",
    "    if type(data) == list:\n",
    "        return data[0]\n",
    "    else:\n",
    "        return data\n",
    "    "
   ]
  },
  {
   "cell_type": "code",
   "execution_count": 5,
   "metadata": {
    "scrolled": false
   },
   "outputs": [
    {
     "data": {
      "text/html": [
       "<h1>Yummy.com Restaurants</h1>"
      ],
      "text/plain": [
       "<IPython.core.display.HTML object>"
      ]
     },
     "metadata": {},
     "output_type": "display_data"
    },
    {
     "data": {
      "application/vnd.jupyter.widget-view+json": {
       "model_id": "aa2896f9f3794ddfb80964753bf8b442",
       "version_major": 2,
       "version_minor": 0
      },
      "text/plain": [
       "interactive(children=(Text(value='', description='cuisine'), Text(value='', description='city'), Button(descri…"
      ]
     },
     "metadata": {},
     "output_type": "display_data"
    }
   ],
   "source": [
    "display(HTML(\"<h1>Yummy.com Restaurants</h1>\"))\n",
    "interact_zomato=interact.options(manual=True, manual_name=\"Find Eateries!\")\n",
    "@interact_zomato(cuisine=\"\", city=\"\")\n",
    "def main(cuisine,city):\n",
    "    city_id = zomato.get_city_id(zomato_key, city)\n",
    "    rests = zomato.get_restaurants(zomato_key, city_id, cuisine)\n",
    "    rests_df = pd.json_normalize(rests)\n",
    "    geo = geocode(city)\n",
    "    MAPCITY = (geo['lat'], geo['lon'])\n",
    "    rmap = folium.Map(location=MAPCITY, zoom_start=10, width=800, height=600)\n",
    "    #rests_filter = rests_df[ rests_df['restaurant.cuisines'].str.find(cuisine.title()) >=0 ]\n",
    "                    \n",
    "    for row in rests_df.to_records():\n",
    "        coords = (float(row['restaurant.location.latitude']),float(row['restaurant.location.longitude']))\n",
    "        loc = f\"<p><b>{row['restaurant.name']}</b></p>\"\n",
    "        loc += f\"<p>({row['restaurant.cuisines']})</p>\"\n",
    "        marker = folium.Marker(location=coords, popup=loc,tooltip=loc)\n",
    "        rmap.add_child(marker)\n",
    "    display(rmap)"
   ]
  },
  {
   "cell_type": "code",
   "execution_count": null,
   "metadata": {},
   "outputs": [],
   "source": []
  }
 ],
 "metadata": {
  "kernelspec": {
   "display_name": "Python 3",
   "language": "python",
   "name": "python3"
  },
  "language_info": {
   "codemirror_mode": {
    "name": "ipython",
    "version": 3
   },
   "file_extension": ".py",
   "mimetype": "text/x-python",
   "name": "python",
   "nbconvert_exporter": "python",
   "pygments_lexer": "ipython3",
   "version": "3.8.6"
  }
 },
 "nbformat": 4,
 "nbformat_minor": 4
}
