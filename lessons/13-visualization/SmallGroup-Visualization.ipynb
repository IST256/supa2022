{
 "cells": [
  {
   "cell_type": "markdown",
   "metadata": {},
   "source": [
    "## Now You Code In Class: Tricks of The DataViz Masters\n",
    "\n",
    "We will try something a bit different in the Activity - A series of Data Visualization coding challenges!\n",
    "\n",
    "For this Now You Code, you will need:\n",
    "\n",
    "    - OpenWeatherMap API key https://openweathermap.org/api (From previous HW)\n",
    "    - Plotly Credentials  https://developers.zomato.com/api (From Lab) \n",
    "    \n",
    "\n",
    "    \n"
   ]
  },
  {
   "cell_type": "code",
   "execution_count": null,
   "metadata": {},
   "outputs": [],
   "source": [
    "import requests\n",
    "import geocoder\n",
    "import matplotlib\n",
    "import matplotlib.pyplot as plt\n",
    "import chart_studio as plotly\n",
    "import chart_studio.plotly as py\n",
    "import plotly.express as px\n",
    "import plotly.graph_objects as go\n",
    "import pandas as pd\n",
    "import folium\n",
    "from IPython.display import display"
   ]
  },
  {
   "cell_type": "code",
   "execution_count": null,
   "metadata": {},
   "outputs": [],
   "source": [
    "# SET YOUR KEYS AND CREDENTIALS\n",
    "plotly.tools.set_credentials_file(username='???', api_key='???')\n",
    "weather_key = '' # sign up for your own key at https://openweathermap.org/ "
   ]
  },
  {
   "cell_type": "code",
   "execution_count": null,
   "metadata": {},
   "outputs": [],
   "source": [
    "def getWeather(weather_key,location):\n",
    "    g = geocoder.osm(location)\n",
    "    query_string = { 'lat' : g.latlng[0], 'lon': g.latlng[1], 'appid' : weather_key, 'units' : 'imperial'}\n",
    "    url='https://api.openweathermap.org/data/2.5/onecall' \n",
    "    response = requests.get(url, params=query_string)\n",
    "    response.raise_for_status()\n",
    "    #print (response.url)\n",
    "    weather = response.json()\n",
    "    return weather\n"
   ]
  },
  {
   "cell_type": "markdown",
   "metadata": {},
   "source": [
    "# Exam Scores Data Set\n",
    "\n",
    "Load the data"
   ]
  },
  {
   "cell_type": "code",
   "execution_count": null,
   "metadata": {},
   "outputs": [],
   "source": [
    "exam_df = pd.read_csv('https://raw.githubusercontent.com/mafudge/datasets/master/exam-scores/exam-scores.csv')\n",
    "display(exam_df.sample(5))"
   ]
  },
  {
   "cell_type": "markdown",
   "metadata": {},
   "source": [
    "## Challenge 1\n",
    "\n",
    "Use `matplotlib` to plot a pie chart of 'Studied In Groups`\n",
    "\n",
    "HINTS: \n",
    " - You must get `value_counts` of the series, then make a `DataFrame` from it and plot.\n",
    " - Plotting help:  `help(df.plot.pie)` where `df` is the dataframe you made.\n"
   ]
  },
  {
   "cell_type": "code",
   "execution_count": null,
   "metadata": {},
   "outputs": [],
   "source": []
  },
  {
   "cell_type": "markdown",
   "metadata": {},
   "source": [
    "## Challenge 2\n",
    "\n",
    "Use `plotly` express to plot the same pie chart of 'Studied In Groups`\n",
    "\n",
    "HINT: You can use the dataframe from the previous cell. `help(px.pie)` for assistance\n"
   ]
  },
  {
   "cell_type": "code",
   "execution_count": null,
   "metadata": {
    "scrolled": false
   },
   "outputs": [],
   "source": []
  },
  {
   "cell_type": "markdown",
   "metadata": {},
   "source": [
    "## Challenge 3\n",
    "\n",
    "Use `matplotlib` to plot the grades Student_score as a bar. There should be a bar for each student score.\n",
    "\n",
    "HINT: `help(exam_df.plot.bar)` for assistance."
   ]
  },
  {
   "cell_type": "code",
   "execution_count": null,
   "metadata": {},
   "outputs": [],
   "source": []
  },
  {
   "cell_type": "markdown",
   "metadata": {},
   "source": [
    "## Challenge 4\n",
    "\n",
    "Since the last plot was too detailed, use `matplotlib` to plot a histogram of the grades in 9 bins. \n",
    "\n",
    "HINT: `help(exam_df.hist)` for assistance."
   ]
  },
  {
   "cell_type": "code",
   "execution_count": null,
   "metadata": {},
   "outputs": [],
   "source": []
  },
  {
   "cell_type": "markdown",
   "metadata": {},
   "source": [
    "## Challenge 5\n",
    "\n",
    "Plot the exact same histogram using plotly express. \n",
    "\n",
    "HINT: `help(px.histogram)` for assistance. \n",
    "\n",
    "Note (binning algorithm is different)\n"
   ]
  },
  {
   "cell_type": "code",
   "execution_count": null,
   "metadata": {},
   "outputs": [],
   "source": []
  },
  {
   "cell_type": "markdown",
   "metadata": {},
   "source": [
    "## Challenge 6\n",
    "\n",
    "Plot a scatter comparing the completion time the exam to the exam score. use `matplotlib`\n",
    "\n",
    "Note: No correlation will stick out."
   ]
  },
  {
   "cell_type": "code",
   "execution_count": null,
   "metadata": {},
   "outputs": [],
   "source": []
  },
  {
   "cell_type": "markdown",
   "metadata": {},
   "source": [
    "## Challenge 7\n",
    "\n",
    "Plot the same scatter in `plotly express`\n"
   ]
  },
  {
   "cell_type": "code",
   "execution_count": null,
   "metadata": {},
   "outputs": [],
   "source": []
  },
  {
   "cell_type": "markdown",
   "metadata": {},
   "source": [
    "# Weather API Dataset\n",
    "\n",
    "Load the data "
   ]
  },
  {
   "cell_type": "code",
   "execution_count": null,
   "metadata": {},
   "outputs": [],
   "source": [
    "location = 'Syracuse, NY'\n",
    "weather = getWeather(weather_key,location)\n",
    "weather_df = pd.json_normalize(weather['daily'])\n",
    "display(weather_df.sample(3))"
   ]
  },
  {
   "cell_type": "markdown",
   "metadata": {},
   "source": [
    "## Challenge 7\n",
    "\n",
    "Plot a line of daily day temperatures (temp.day) using `matplotlib`"
   ]
  },
  {
   "cell_type": "code",
   "execution_count": null,
   "metadata": {},
   "outputs": [],
   "source": []
  },
  {
   "cell_type": "markdown",
   "metadata": {},
   "source": [
    "## Challenge 8\n",
    "\n",
    "Plot the same line in `plotly express`"
   ]
  },
  {
   "cell_type": "code",
   "execution_count": null,
   "metadata": {},
   "outputs": [],
   "source": []
  },
  {
   "cell_type": "markdown",
   "metadata": {},
   "source": [
    "## Challenge 9 \n",
    "\n",
    "Let's plot multiple series\n",
    "\n",
    "Using `matplotlib` plot two series `temp.min` and `temp.max` (both as lines) on the same graph.\n",
    "\n",
    "HINT: \n",
    "\n",
    " - This is not a one-liner. you must call in the `plt.plot()` method manually, then `display(plt)`\n",
    " - Consult the WMC1 example."
   ]
  },
  {
   "cell_type": "code",
   "execution_count": null,
   "metadata": {},
   "outputs": [],
   "source": []
  },
  {
   "cell_type": "markdown",
   "metadata": {},
   "source": [
    "## Challenge 10\n",
    "\n",
    "Plot the same thing using PoP (plain old plotly), similar to the lab example.\n",
    "\n",
    "HINT: \n",
    "\n",
    " - This is not a one-liner. you must make a figure and `add_trace()` for each series. \n",
    " - Consult the lab. "
   ]
  },
  {
   "cell_type": "code",
   "execution_count": null,
   "metadata": {},
   "outputs": [],
   "source": []
  },
  {
   "cell_type": "markdown",
   "metadata": {},
   "source": [
    "## Challenge 12\n",
    "\n",
    "Create a `folium` map at the geographic center of NY State and place a pin there. The pin should day \"This is the center\"\n",
    "\n",
    "\n",
    "HINT: \n",
    "\n",
    " - Get the center here: https://en.wikipedia.org/wiki/List_of_geographic_centers_of_the_United_States\n",
    " - Use `folium.Marker` to make the pin, then add to map\n",
    " "
   ]
  },
  {
   "cell_type": "code",
   "execution_count": null,
   "metadata": {},
   "outputs": [],
   "source": []
  },
  {
   "cell_type": "markdown",
   "metadata": {},
   "source": [
    "# Cities of New York Dataset\n",
    "\n",
    "Get it with this code"
   ]
  },
  {
   "cell_type": "code",
   "execution_count": null,
   "metadata": {},
   "outputs": [],
   "source": [
    "cities_df = pd.read_csv('https://raw.githubusercontent.com/mafudge/datasets/master/ist256/13-visualization/ny-cities.csv')\n",
    "cities_df.sample(5)"
   ]
  },
  {
   "cell_type": "markdown",
   "metadata": {},
   "source": [
    "## Challenge 13\n",
    "\n",
    "Create a `folium` map at the geographic center of NY State and place a pin there. put a red pin on the map for each city in the `cities_df` dataset.\n",
    "\n",
    "\n",
    "HINT: \n",
    "\n",
    " - Loop over each row in the data frame.\n",
    " - create the  `folium.Marker` then add to map\n",
    " "
   ]
  },
  {
   "cell_type": "code",
   "execution_count": null,
   "metadata": {
    "scrolled": true
   },
   "outputs": [],
   "source": []
  },
  {
   "cell_type": "code",
   "execution_count": null,
   "metadata": {},
   "outputs": [],
   "source": [
    "# run this code to turn in your work!\n",
    "from coursetools.submission import Submission\n",
    "Submission().submit_now()"
   ]
  }
 ],
 "metadata": {
  "anaconda-cloud": {},
  "kernelspec": {
   "display_name": "Python 3 (ipykernel)",
   "language": "python",
   "name": "python3"
  },
  "language_info": {
   "codemirror_mode": {
    "name": "ipython",
    "version": 3
   },
   "file_extension": ".py",
   "mimetype": "text/x-python",
   "name": "python",
   "nbconvert_exporter": "python",
   "pygments_lexer": "ipython3",
   "version": "3.9.7"
  },
  "toc": {
   "base_numbering": 1,
   "nav_menu": {},
   "number_sections": false,
   "sideBar": false,
   "skip_h1_title": false,
   "title_cell": "Table of Contents",
   "title_sidebar": "Contents",
   "toc_cell": false,
   "toc_position": {},
   "toc_section_display": false,
   "toc_window_display": false
  },
  "varInspector": {
   "cols": {
    "lenName": 16,
    "lenType": 16,
    "lenVar": 40
   },
   "kernels_config": {
    "python": {
     "delete_cmd_postfix": "",
     "delete_cmd_prefix": "del ",
     "library": "var_list.py",
     "varRefreshCmd": "print(var_dic_list())"
    },
    "r": {
     "delete_cmd_postfix": ") ",
     "delete_cmd_prefix": "rm(",
     "library": "var_list.r",
     "varRefreshCmd": "cat(var_dic_list()) "
    }
   },
   "types_to_exclude": [
    "module",
    "function",
    "builtin_function_or_method",
    "instance",
    "_Feature"
   ],
   "window_display": false
  }
 },
 "nbformat": 4,
 "nbformat_minor": 1
}
