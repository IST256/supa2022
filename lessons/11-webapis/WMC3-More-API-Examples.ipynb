{
 "cells": [
  {
   "cell_type": "markdown",
   "metadata": {},
   "source": [
    "# More API Examples\n",
    "\n",
    "This notebook contains EVEN MORE API examples so you can get an idea of the types of services available. There's a world of API's out there for the taking, and we cannot teach them all to you. We can only teach you how they work in general... the details are 100% up to you!\n",
    "\n",
    "\n",
    "\n",
    "### You should get your own API keys as appropriate. No guarantees my keys will work for you"
   ]
  },
  {
   "cell_type": "markdown",
   "metadata": {},
   "source": [
    "# Caller Id/ Get a location for a Phone number\n",
    "\n",
    "This uses the cosmin phone number lookup API as found on https://market.mashape.com/explore \n",
    "\n",
    "This api requires `headers` to be passed into the `get()` request. The API key and the requested output of `json` are sent into the header.\n",
    "\n",
    "Enter a phone number as input like `3154432911` and then the API will output JSON data consisting of caller ID data and GPS coordinates."
   ]
  },
  {
   "cell_type": "code",
   "execution_count": 1,
   "metadata": {},
   "outputs": [
    {
     "name": "stdout",
     "output_type": "stream",
     "text": [
      "Enter your phone number: 3154439696\n"
     ]
    },
    {
     "data": {
      "text/plain": [
       "{'phone_number': {'npa': '315', 'nxx': '443', 'xxx': '9696'},\n",
       " 'opencnam': 'Please use \"opencnam-sid\" and \"opencnam-auth-token\" to see OpenCNAM results.',\n",
       " 'type': 'Landline',\n",
       " 'city': 'Syracuse',\n",
       " 'state': 'New York',\n",
       " 'latitude': 43.051,\n",
       " 'county': 'Onondaga',\n",
       " 'longitude': -76.1481,\n",
       " 'time_zone': 'Eastern (GMT -05:00)',\n",
       " 'cbsa_code': '45060',\n",
       " 'carrier': 'Verizon New York Inc.'}"
      ]
     },
     "execution_count": 1,
     "metadata": {},
     "output_type": "execute_result"
    }
   ],
   "source": [
    "import requests\n",
    "\n",
    "phone = input(\"Enter your phone number: \")\n",
    "params = { 'phone' : phone }\n",
    "headers={ \"X-Mashape-Key\": \"sNi0LJs3rBmshZL7KQOrRWXZqIsBp1XUjhnjsnYUsE6iKo14Nc\",\n",
    "    \"Accept\": \"application/json\" }\n",
    "response = requests.get(\"https://cosmin-us-phone-number-lookup.p.mashape.com/get.php\", params=params, headers=headers )\n",
    "\n",
    "phone_data = response.json()\n",
    "phone_data"
   ]
  },
  {
   "cell_type": "markdown",
   "metadata": {},
   "source": [
    "# Get current exchange rates\n",
    "\n",
    "This example uses http://fixer.io to get the current currency exchange rates.\n"
   ]
  },
  {
   "cell_type": "code",
   "execution_count": 2,
   "metadata": {},
   "outputs": [
    {
     "data": {
      "text/plain": [
       "{'success': True,\n",
       " 'timestamp': 1584617946,\n",
       " 'base': 'EUR',\n",
       " 'date': '2020-03-19',\n",
       " 'rates': {'AED': 3.947085,\n",
       "  'AFN': 82.199509,\n",
       "  'ALL': 121.066357,\n",
       "  'AMD': 530.100983,\n",
       "  'ANG': 1.935688,\n",
       "  'AOA': 544.066073,\n",
       "  'ARS': 67.949712,\n",
       "  'AUD': 1.878476,\n",
       "  'AWG': 1.934215,\n",
       "  'AZN': 1.823789,\n",
       "  'BAM': 1.9267,\n",
       "  'BBD': 2.183509,\n",
       "  'BDT': 91.732693,\n",
       "  'BGN': 1.950031,\n",
       "  'BHD': 0.405764,\n",
       "  'BIF': 2041.744735,\n",
       "  'BMD': 1.074564,\n",
       "  'BND': 1.556017,\n",
       "  'BOB': 7.445371,\n",
       "  'BRL': 5.487584,\n",
       "  'BSD': 1.081411,\n",
       "  'BTC': 0.000192,\n",
       "  'BTN': 80.262285,\n",
       "  'BWP': 12.626192,\n",
       "  'BYN': 2.66444,\n",
       "  'BYR': 21061.447303,\n",
       "  'BZD': 2.179844,\n",
       "  'CAD': 1.56572,\n",
       "  'CDF': 1833.205526,\n",
       "  'CHF': 1.053862,\n",
       "  'CLF': 0.034153,\n",
       "  'CLP': 942.288688,\n",
       "  'CNY': 7.651326,\n",
       "  'COP': 4468.035606,\n",
       "  'CRC': 612.38276,\n",
       "  'CUC': 1.074564,\n",
       "  'CUP': 28.475936,\n",
       "  'CVE': 108.620245,\n",
       "  'CZK': 27.576204,\n",
       "  'DJF': 190.971384,\n",
       "  'DKK': 7.472849,\n",
       "  'DOP': 58.081406,\n",
       "  'DZD': 131.840287,\n",
       "  'EGP': 16.920687,\n",
       "  'ERN': 16.118838,\n",
       "  'ETB': 35.45797,\n",
       "  'EUR': 1,\n",
       "  'FJD': 2.505455,\n",
       "  'FKP': 0.931042,\n",
       "  'GBP': 0.930712,\n",
       "  'GEL': 3.320642,\n",
       "  'GGP': 0.931042,\n",
       "  'GHS': 6.141841,\n",
       "  'GIP': 0.931042,\n",
       "  'GMD': 54.696895,\n",
       "  'GNF': 10318.115812,\n",
       "  'GTQ': 8.270762,\n",
       "  'GYD': 225.505882,\n",
       "  'HKD': 8.342536,\n",
       "  'HNL': 26.758929,\n",
       "  'HRK': 7.606812,\n",
       "  'HTG': 102.525858,\n",
       "  'HUF': 358.098009,\n",
       "  'IDR': 17139.290024,\n",
       "  'ILS': 3.946439,\n",
       "  'IMP': 0.931042,\n",
       "  'INR': 80.825989,\n",
       "  'IQD': 1291.011165,\n",
       "  'IRR': 45244.502239,\n",
       "  'ISK': 152.297885,\n",
       "  'JEP': 0.931042,\n",
       "  'JMD': 146.3324,\n",
       "  'JOD': 0.761904,\n",
       "  'JPY': 117.968847,\n",
       "  'KES': 112.872294,\n",
       "  'KGS': 78.331472,\n",
       "  'KHR': 4370.069358,\n",
       "  'KMF': 488.335403,\n",
       "  'KPW': 967.147847,\n",
       "  'KRW': 1377.848381,\n",
       "  'KWD': 0.334716,\n",
       "  'KYD': 0.901216,\n",
       "  'KZT': 479.699726,\n",
       "  'LAK': 9620.111563,\n",
       "  'LBP': 1635.35111,\n",
       "  'LKR': 200.817902,\n",
       "  'LRD': 212.76358,\n",
       "  'LSL': 18.386092,\n",
       "  'LTL': 3.172907,\n",
       "  'LVL': 0.649993,\n",
       "  'LYD': 1.496445,\n",
       "  'MAD': 10.446257,\n",
       "  'MDL': 19.298128,\n",
       "  'MGA': 4037.750993,\n",
       "  'MKD': 61.273646,\n",
       "  'MMK': 1545.363925,\n",
       "  'MNT': 2972.541417,\n",
       "  'MOP': 8.649924,\n",
       "  'MRO': 383.619548,\n",
       "  'MUR': 42.444614,\n",
       "  'MVR': 16.549267,\n",
       "  'MWK': 795.434861,\n",
       "  'MXN': 26.203341,\n",
       "  'MYR': 4.744205,\n",
       "  'MZN': 71.227467,\n",
       "  'NAD': 18.407231,\n",
       "  'NGN': 394.365226,\n",
       "  'NIO': 36.479113,\n",
       "  'NOK': 12.304232,\n",
       "  'NPR': 128.430643,\n",
       "  'NZD': 1.897109,\n",
       "  'OMR': 0.413604,\n",
       "  'PAB': 1.081469,\n",
       "  'PEN': 3.832393,\n",
       "  'PGK': 3.745703,\n",
       "  'PHP': 55.367431,\n",
       "  'PKR': 172.109677,\n",
       "  'PLN': 4.584315,\n",
       "  'PYG': 7116.897081,\n",
       "  'QAR': 3.912494,\n",
       "  'RON': 4.843277,\n",
       "  'RSD': 117.524788,\n",
       "  'RUB': 87.214798,\n",
       "  'RWF': 1029.473228,\n",
       "  'SAR': 4.041478,\n",
       "  'SBD': 8.884484,\n",
       "  'SCR': 14.724514,\n",
       "  'SDG': 59.421471,\n",
       "  'SEK': 11.203917,\n",
       "  'SGD': 1.563227,\n",
       "  'SHP': 0.931042,\n",
       "  'SLL': 10436.697016,\n",
       "  'SOS': 630.768478,\n",
       "  'SRD': 8.01406,\n",
       "  'STD': 23697.107196,\n",
       "  'SVC': 9.463364,\n",
       "  'SYP': 553.399006,\n",
       "  'SZL': 18.425285,\n",
       "  'THB': 35.101678,\n",
       "  'TJS': 10.533457,\n",
       "  'TMT': 3.760973,\n",
       "  'TND': 3.133965,\n",
       "  'TOP': 2.571162,\n",
       "  'TRY': 7.030424,\n",
       "  'TTD': 7.306867,\n",
       "  'TWD': 32.767207,\n",
       "  'TZS': 2476.440087,\n",
       "  'UAH': 29.536314,\n",
       "  'UGX': 4087.337156,\n",
       "  'USD': 1.074564,\n",
       "  'UYU': 48.080386,\n",
       "  'UZS': 10290.177228,\n",
       "  'VEF': 10.732205,\n",
       "  'VND': 24978.769044,\n",
       "  'VUV': 133.999445,\n",
       "  'WST': 3.055009,\n",
       "  'XAF': 646.205049,\n",
       "  'XAG': 0.089581,\n",
       "  'XAU': 0.000726,\n",
       "  'XCD': 2.904062,\n",
       "  'XDR': 0.790288,\n",
       "  'XOF': 646.222821,\n",
       "  'XPF': 117.48483,\n",
       "  'YER': 268.959563,\n",
       "  'ZAR': 18.686557,\n",
       "  'ZMK': 9672.358796,\n",
       "  'ZMW': 17.924532,\n",
       "  'ZWL': 346.009492}}"
      ]
     },
     "execution_count": 2,
     "metadata": {},
     "output_type": "execute_result"
    }
   ],
   "source": [
    "import requests\n",
    "apikey = '159f1a48ad7a3d6f4dbe5d5a71c2135c' # get your own at fixer.io\n",
    "params = { 'access_key': apikey } # US Dollars\n",
    "response = requests.get(\"http://data.fixer.io/api/latest\", params=params )\n",
    "rates = response.json()\n",
    "rates"
   ]
  },
  {
   "cell_type": "markdown",
   "metadata": {},
   "source": [
    "# GeoIP lookup: Find the lat/lng of an IP Address\n",
    "\n",
    "Every computer on the internet has a unique IP Address. This service when given an IP address will return back where that IP Address is located. Pretty handy API which is commonly used with mobile devices to determine approximate location when the GPS is turned off. "
   ]
  },
  {
   "cell_type": "code",
   "execution_count": 3,
   "metadata": {},
   "outputs": [
    {
     "data": {
      "text/plain": [
       "{'ip': '128.230.182.17',\n",
       " 'type': 'ipv4',\n",
       " 'continent_code': 'NA',\n",
       " 'continent_name': 'North America',\n",
       " 'country_code': 'US',\n",
       " 'country_name': 'United States',\n",
       " 'region_code': 'NY',\n",
       " 'region_name': 'New York',\n",
       " 'city': 'Syracuse',\n",
       " 'zip': '13224',\n",
       " 'latitude': 43.03828048706055,\n",
       " 'longitude': -76.10877227783203,\n",
       " 'location': {'geoname_id': 5140405,\n",
       "  'capital': 'Washington D.C.',\n",
       "  'languages': [{'code': 'en', 'name': 'English', 'native': 'English'}],\n",
       "  'country_flag': 'http://assets.ipstack.com/flags/us.svg',\n",
       "  'country_flag_emoji': '🇺🇸',\n",
       "  'country_flag_emoji_unicode': 'U+1F1FA U+1F1F8',\n",
       "  'calling_code': '1',\n",
       "  'is_eu': False}}"
      ]
     },
     "execution_count": 3,
     "metadata": {},
     "output_type": "execute_result"
    }
   ],
   "source": [
    "import requests\n",
    "ip = \"128.230.182.170\"\n",
    "apikey = 'f9117fcd34312f9083a020af5836e337' # get your own at ipstack.com\n",
    "params = { 'access_key': apikey } # US Dollars\n",
    "url = f\"http://api.snoopi.io/{ip}\"\n",
    "response = requests.get( url, params=params )\n",
    "rates = response.json()\n",
    "rates"
   ]
  },
  {
   "cell_type": "markdown",
   "metadata": {},
   "source": [
    "## An API for sentiment analysis...\n",
    "\n",
    "Process some text and more here: http://text-processing.com\n"
   ]
  },
  {
   "cell_type": "code",
   "execution_count": 4,
   "metadata": {},
   "outputs": [
    {
     "name": "stdout",
     "output_type": "stream",
     "text": [
      "How are you feeling today? very sad\n",
      "{'probability': {'neg': 0.7177103703784351, 'neutral': 0.0723048266852646, 'pos': 0.28228962962156484}, 'label': 'neg'}\n"
     ]
    }
   ],
   "source": [
    "# sentiment\n",
    "message = input(\"How are you feeling today? \")\n",
    "url = 'http://text-processing.com/api/sentiment/'\n",
    "options = { 'text' : message}\n",
    "response = requests.post(url, data = options)\n",
    "sentiment = response.json()\n",
    "print(sentiment)"
   ]
  },
  {
   "cell_type": "markdown",
   "metadata": {},
   "source": [
    "## Searching iTunes\n",
    "\n",
    "Here's an example of the iTunes search API. I'm searching for \"Mandatory fun\" and printing out the track names."
   ]
  },
  {
   "cell_type": "code",
   "execution_count": 5,
   "metadata": {},
   "outputs": [
    {
     "name": "stdout",
     "output_type": "stream",
     "text": [
      "Foil\n",
      "Sports Song\n",
      "Word Crimes\n",
      "NOW That's What I Call Polka!\n",
      "Lame Claim to Fame\n",
      "Inactive\n",
      "Handy\n",
      "Tacky\n",
      "Mission Statement\n",
      "Jackson Park Express\n",
      "First World Problems\n",
      "My Own Eyes\n",
      "Mandatory Fun\n",
      "Mandatory Fun\n",
      "Mandatory Fun\n",
      "Mandatory Fun\n",
      "Cash\n",
      "Good as Gone\n",
      "Take Me Home\n",
      "Down\n",
      "Fool's Gold\n",
      "Believe\n",
      "Heaven Help Me\n",
      "The Truth\n",
      "Spinning Round\n",
      "Country Soul\n",
      "Air Traffic Control\n",
      "Boom Spider\n",
      "Jack Shit\n",
      "Sad Horse\n",
      "Dance in the Moonlight\n",
      "Strawberry Jam\n",
      "Spruce Willis\n",
      "Koala\n",
      "On the Hillside\n",
      "Spib\n",
      "Waterfall\n",
      "On a Rock\n",
      "Drinks In the Air (feat. Mack)\n",
      "Mandatory Fun Day\n",
      "Heaven on Earth\n"
     ]
    }
   ],
   "source": [
    "term = 'Mandatory Fun'\n",
    "params = { 'term' : term }\n",
    "response = requests.get('https://itunes.apple.com/search', params = params)\n",
    "search = response.json()\n",
    "for r in search['results']:\n",
    "    print(r['trackName'])"
   ]
  },
  {
   "cell_type": "markdown",
   "metadata": {},
   "source": [
    "# Earthquakes anyone?\n",
    "\n",
    "Here's an example of the significant earthquakes from the past week. Information on this API can be found here:\n",
    "\n",
    "http://earthquake.usgs.gov/earthquakes/feed/v1.0/geojson.php \n"
   ]
  },
  {
   "cell_type": "code",
   "execution_count": 6,
   "metadata": {},
   "outputs": [
    {
     "name": "stdout",
     "output_type": "stream",
     "text": [
      "M 5.2 - 15km W of Petrolia, CA\n",
      "M 4.6 - 5km NE of Magna, Utah\n",
      "M 6.2 - 246km S of Kangin, Indonesia\n",
      "M 4.5 - 7km NNE of Magna, Utah\n",
      "M 5.7 - 6km NNE of Magna, Utah\n",
      "M 6.3 - 298km NE of Raoul Island, New Zealand\n"
     ]
    }
   ],
   "source": [
    "response = requests.get('https://earthquake.usgs.gov/earthquakes/feed/v1.0/summary/significant_week.geojson')\n",
    "quakes = response.json()\n",
    "for q in quakes['features']:\n",
    "    print(q['properties']['title'])"
   ]
  },
  {
   "cell_type": "markdown",
   "metadata": {
    "collapsed": true
   },
   "source": [
    "# Spotify\n",
    "\n",
    "The spotify example shows you how to call an API which uses the OAUTH2 prococol. **This is a two step process.** The first request, you request a token, and in the second request you call the api with that token. Twitter, Facebook, Google, and many other services use this approach.\n",
    "\n",
    "Typically you will use the **client credentials flow**, which does not explicitly require the user to consent. \n",
    "https://developer.spotify.com/documentation/general/guides/authorization-guide/\n",
    "\n",
    "API's that use this approach will issue you a client id and a client secret. The id is always the same but the secret may be changed. \n",
    "\n",
    "We use that client id and client secret to get an bearer access token. Notice how we pass into the post a named argument `auth=` which authenticates with the client id/secret.\n",
    "\n",
    "Next we use the bearer access token to make subsequent calls to the api.\n"
   ]
  },
  {
   "cell_type": "code",
   "execution_count": null,
   "metadata": {},
   "outputs": [],
   "source": [
    "from base64 import b64encode\n",
    "# USE YOUR OWN CREDENTIALS THESE ARE EXAMPLES\n",
    "client_id = \"413fe60240a7ad1881bcca301a345\"\n",
    "client_secret = \"f6eae3c49a8a9a5c82cb00cfb153\"\n",
    "\n",
    "# Step one, get the access token\n",
    "payload = { 'grant_type' : 'client_credentials'}\n",
    "response = requests.post(\"https://accounts.spotify.com/api/token\", auth=(client_id,client_secret),data=payload)\n",
    "token = response.json()['access_token']\n",
    "print(f\"Access token: {token}\")\n",
    "\n",
    "# Step two and beyond, use the access token to call the api\n",
    "url = \"https://api.spotify.com/v1/tracks/2TpxZ7JUBn3uw46aR7qd6V\"\n",
    "header = {\"Authorization\" : f\"Bearer {token}\"}\n",
    "response = requests.get(url, headers=header)\n",
    "response.json()"
   ]
  }
 ],
 "metadata": {
  "anaconda-cloud": {},
  "kernelspec": {
   "display_name": "Python 3",
   "language": "python",
   "name": "python3"
  },
  "language_info": {
   "codemirror_mode": {
    "name": "ipython",
    "version": 3
   },
   "file_extension": ".py",
   "mimetype": "text/x-python",
   "name": "python",
   "nbconvert_exporter": "python",
   "pygments_lexer": "ipython3",
   "version": "3.7.6"
  },
  "toc": {
   "base_numbering": 1,
   "nav_menu": {},
   "number_sections": false,
   "sideBar": false,
   "skip_h1_title": false,
   "title_cell": "Table of Contents",
   "title_sidebar": "Contents",
   "toc_cell": false,
   "toc_position": {},
   "toc_section_display": false,
   "toc_window_display": false
  }
 },
 "nbformat": 4,
 "nbformat_minor": 1
}
