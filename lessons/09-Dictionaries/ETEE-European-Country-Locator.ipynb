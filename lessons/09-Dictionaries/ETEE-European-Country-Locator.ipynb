{
 "cells": [
  {
   "cell_type": "markdown",
   "metadata": {},
   "source": [
    "# End-To-End Example: European Country Locator\n",
    "\n",
    "In this example, we will load in json data for European countries. We will write a program to prompt to input a country then tell the user which part of Europe the country is located in and what are the neighboring European countries.\n"
   ]
  },
  {
   "cell_type": "code",
   "execution_count": null,
   "metadata": {
    "collapsed": true
   },
   "outputs": [],
   "source": [
    "## todo list\n",
    "# load europe data into Python\n",
    "# loop\n",
    "#   input a country name\n",
    "#   if country name is quit, exit loop\n",
    "#   for each country in europe\n",
    "#        if input name equals country name\n",
    "#              get info on country (region and neighbors)\n",
    "#              print country info"
   ]
  },
  {
   "cell_type": "code",
   "execution_count": 4,
   "metadata": {},
   "outputs": [
    {
     "name": "stdout",
     "output_type": "stream",
     "text": [
      "  % Total    % Received % Xferd  Average Speed   Time    Time     Time  Current\n",
      "                                 Dload  Upload   Total   Spent    Left  Speed\n",
      "100 32875  100 32875    0     0  72094      0 --:--:-- --:--:-- --:--:-- 72252\n"
     ]
    }
   ],
   "source": [
    "!curl https://raw.githubusercontent.com/mafudge/datasets/master/ist256/09-Dictionaries/europe.json -o europe.json"
   ]
  },
  {
   "cell_type": "code",
   "execution_count": 8,
   "metadata": {},
   "outputs": [
    {
     "data": {
      "text/html": [
       "<h1>EUROPEAN COUNTRY LOCATOR</h1>"
      ],
      "text/plain": [
       "<IPython.core.display.HTML object>"
      ]
     },
     "metadata": {},
     "output_type": "display_data"
    },
    {
     "data": {
      "application/vnd.jupyter.widget-view+json": {
       "model_id": "20505b2f4b454ecab4f709c8ba16ad83",
       "version_major": 2,
       "version_minor": 0
      },
      "text/plain": [
       "interactive(children=(Dropdown(description='Nation', options=('Åland Islands', 'Albania', 'Andorra', 'Austria'…"
      ]
     },
     "metadata": {},
     "output_type": "display_data"
    }
   ],
   "source": [
    "from IPython.display import display, HTML\n",
    "from ipywidgets import interact, interact_manual\n",
    "\n",
    "import json\n",
    "\n",
    "# input: none\n",
    "# output: Python object of data in JSON file\n",
    "def load_europe_data():    \n",
    "    with open('europe.json', encoding='utf8') as f:\n",
    "        data = f.read()\n",
    "        europe = json.loads(data)\n",
    "        return europe\n",
    "\n",
    "# input: country and europe data\n",
    "# output: dictionary of country info (name, region and neighbors)\n",
    "def extract_country_info(country, europe):\n",
    "    info = {}\n",
    "    info['name'] = country['name']\n",
    "    info['subregion'] = country['subregion']\n",
    "    info['borders'] = []\n",
    "    for country_code in country['borders']:\n",
    "        for country in europe: \n",
    "            if country['alpha3Code'] == country_code:\n",
    "                info['borders'].append(country['name'])\n",
    "    return info\n",
    "\n",
    "# main program \n",
    "europe = load_europe_data()\n",
    "display(HTML((\"<h1>EUROPEAN COUNTRY LOCATOR</h1>\")))\n",
    "country_list = [ c['name'] for c in europe ]\n",
    "@interact(Nation=country_list)\n",
    "def main(Nation):        \n",
    "    for country in europe:\n",
    "        if Nation == country['name']:\n",
    "            info = extract_country_info(country, europe)\n",
    "            display(HTML(f\"<h2>{info['name']}\"))\n",
    "            display(HTML(f\"<p>{info['subregion']}\"))\n",
    "            display(HTML(f\"<p>Bordering Nations: {info['borders']}\"))\n",
    "        "
   ]
  },
  {
   "cell_type": "code",
   "execution_count": null,
   "metadata": {},
   "outputs": [],
   "source": []
  }
 ],
 "metadata": {
  "anaconda-cloud": {},
  "kernelspec": {
   "display_name": "Python 3",
   "language": "python",
   "name": "python3"
  },
  "language_info": {
   "codemirror_mode": {
    "name": "ipython",
    "version": 3
   },
   "file_extension": ".py",
   "mimetype": "text/x-python",
   "name": "python",
   "nbconvert_exporter": "python",
   "pygments_lexer": "ipython3",
   "version": "3.8.6"
  }
 },
 "nbformat": 4,
 "nbformat_minor": 1
}
