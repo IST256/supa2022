{
 "cells": [
  {
   "cell_type": "markdown",
   "metadata": {},
   "source": [
    "# IST256 Project Deliverable 1 (P1)\n",
    "\n",
    "## FIRST: Read The Syllabus\n",
    "\n",
    "Please read the project section of the syllabus as that explains the the project itself, its phases, and evaluation criteria. \n",
    "\n",
    "[http://ist256.com/syllabus/#project-p1-p4](http://ist256.com/syllabus/#project-p1-p4)\n",
    "\n",
    "\n",
    "## Project Objective\n",
    "\n",
    "Your primary objectives for the project are to create something novel, useful and innovative with Python code. You can draw your inspiration from the many examples given to you throughout the semester. Your project should clearly and explicitly demonstrate the level of programming knowledge that you have acquired in this course. The type of project you propose is up to you. Ultimately you are evaluated based on not only the idea itself but your execution of it, therefore your **project should be a representaiton of you and your abilities as a programmer.**  \n",
    "\n",
    "Our role is to help you to scope your idea. If it is simple enough we will expect a full implementation, if it’s complex then we’ll ask for a manifestation of your idea as a minimum viable product. It should be a proof of concept demonstrating how the bigger system might work. That being said, it is important to engage your small group instructor as they are the evaluator of your work. It can only make your project and your grade better.\n"
   ]
  },
  {
   "cell_type": "markdown",
   "metadata": {},
   "source": [
    "## Phase 1: Ideation\n",
    "\n",
    "The goal of this phase is to outline the specific goals and objectives of your project; include evidence of its feasibility by including citations of resources you will use to complete the code.\n"
   ]
  },
  {
   "cell_type": "markdown",
   "metadata": {},
   "source": [
    "### Step 1: Project Summary\n",
    "\n",
    "Write a brief summary of your project idea, In 250 - 500 words.\n",
    "\n",
    "`--== Double-Click and Write Your Project Summary Below This Line  ==--`\n",
    "\n",
    "\n"
   ]
  },
  {
   "cell_type": "markdown",
   "metadata": {},
   "source": [
    "### Step 2: Project Component Research\n",
    "\n",
    "You should provide evidence through research that you have the components necessary to implement your project in code. We expect you to provide sources for each component, some will be of your own discovery, some will be things we've done in class.\n",
    "\n",
    "For each component:\n",
    "\n",
    "1. Define what it is and how will it be used in your project, and \n",
    "2. Provide a citation to the sources you can use to implement the component. ALWAYS include a URL to the source, unless it came from the course itself, in which you should state where it came from in the course (lesson 04 lab, lesson 05 homework, lesson 06 large group, etc. Its a good idea to have at least two sources in case one does not work out. \n",
    "\n",
    "\n",
    "**Two Examples of Components with Sources**  \n",
    "\n",
    "```\n",
    "Sentiment analysis will be used determine how chickens feel about the weather. \n",
    "I plan to use https://text-processing.com (from lesson 10 lab/hw) or \n",
    "Azure Text Analytics https://azure.microsoft.com/en-us/services/cognitive-services/text-analytics/ (from lesson 11 lab and hw). Depending on which one is more accurate.\n",
    "\n",
    "The locations of the chickens will be placed on a map \n",
    "using Folium (Lesson 13 Lab) or perhaps if I can figure it out \n",
    "using plotly bubble maps service (https://plotly.com/python/bubble-maps/)\n",
    "```\n",
    "\n",
    "\n",
    "\n",
    "\n",
    "What qualifies as a component?\n",
    "\n",
    "- An API and/or Python module on https://pypi.org (always include a URL source)\n",
    "- A Data set (include a URL source if online, or scraping a webpage, for example)\n",
    "- Using interact / IPywidgets / IPython.display for UI\n",
    "- Each visualization (chart, graph, map)\n",
    "- Other things, upon discussion with your small group instructor\n",
    "\n",
    "\n",
    "**NOTE:** The more components you have the better the chance you will reach the code length threshold for your desired grade. In addition for the highest possible grade **at least 3 of those components must be novel** - things we have not used in class before. Consult the syllabus.\n",
    "\n",
    "\n"
   ]
  },
  {
   "cell_type": "markdown",
   "metadata": {},
   "source": [
    "### Step 2a: List Your Project Components\n",
    "\n",
    "`--== Double-click and list all components with URL sources below This line  ==--`\n",
    "\n",
    "\n"
   ]
  },
  {
   "cell_type": "markdown",
   "metadata": {},
   "source": [
    "### Step 2b: Identify Your Novel Components\n",
    "\n",
    "`--== Double-click and identify which components are novel below This line  ==--`\n",
    "\n",
    "\n"
   ]
  },
  {
   "cell_type": "markdown",
   "metadata": {},
   "source": [
    "### No Grading at This Point, Only feedback\n",
    "\n",
    "Remember you will not recieve a grade for P1, only feedback to get you going. Late or incomplete submissions will affect your grade. Consult the syllabus.\n",
    "\n",
    "\n",
    "When you are ready, turn in your P1 using the submission script."
   ]
  },
  {
   "cell_type": "code",
   "execution_count": null,
   "metadata": {},
   "outputs": [],
   "source": []
  }
 ],
 "metadata": {
  "kernelspec": {
   "display_name": "Python 3.9.13 64-bit (windows store)",
   "language": "python",
   "name": "python3"
  },
  "language_info": {
   "codemirror_mode": {
    "name": "ipython",
    "version": 3
   },
   "file_extension": ".py",
   "mimetype": "text/x-python",
   "name": "python",
   "nbconvert_exporter": "python",
   "pygments_lexer": "ipython3",
   "version": "3.9.13"
  },
  "vscode": {
   "interpreter": {
    "hash": "2f96465d87bf6289a5b887b042903093fc22fa265454e9d3f14e1f3422aac376"
   }
  }
 },
 "nbformat": 4,
 "nbformat_minor": 4
}
