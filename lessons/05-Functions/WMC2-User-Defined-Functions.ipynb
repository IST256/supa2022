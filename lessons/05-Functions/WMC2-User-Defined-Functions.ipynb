{
 "cells": [
  {
   "cell_type": "markdown",
   "metadata": {},
   "source": [
    "# Watch Me Code 2: User-Defined Functions\n",
    "\n",
    "User Defined Functions\n"
   ]
  },
  {
   "cell_type": "code",
   "execution_count": 3,
   "metadata": {
    "collapsed": true
   },
   "outputs": [],
   "source": [
    "## Function: rectangle_area\n",
    "## Arguments (inputs): length and Width\n",
    "## Returns (output): area\n",
    "\n",
    "def rectangle_area(length, width):\n",
    "    area = length * width\n",
    "    return area"
   ]
  },
  {
   "cell_type": "code",
   "execution_count": 4,
   "metadata": {},
   "outputs": [
    {
     "name": "stdout",
     "output_type": "stream",
     "text": [
      "50\n"
     ]
    }
   ],
   "source": [
    "result = rectangle_area(10,5)\n",
    "print(result)"
   ]
  },
  {
   "cell_type": "code",
   "execution_count": 6,
   "metadata": {},
   "outputs": [
    {
     "name": "stdout",
     "output_type": "stream",
     "text": [
      "100\n"
     ]
    }
   ],
   "source": [
    "# named arguments example\n",
    "side = 10\n",
    "area_of_a_square = rectangle_area(length=side, width=side)\n",
    "print (area_of_a_square)"
   ]
  },
  {
   "cell_type": "code",
   "execution_count": 9,
   "metadata": {
    "collapsed": true
   },
   "outputs": [],
   "source": [
    "## Function: rectangle_perimeter\n",
    "## Arguments (inputs): length and Width\n",
    "## Returns (output): perimeter\n",
    "\n",
    "def rectangle_perimeter(length, width):\n",
    "    perm = 2 * (length + width)\n",
    "    return perm\n"
   ]
  },
  {
   "cell_type": "code",
   "execution_count": 10,
   "metadata": {},
   "outputs": [
    {
     "name": "stdout",
     "output_type": "stream",
     "text": [
      "300\n"
     ]
    }
   ],
   "source": [
    "fence_length = rectangle_perimeter(width=100,length=50)\n",
    "print (fence_length)"
   ]
  },
  {
   "cell_type": "code",
   "execution_count": 3,
   "metadata": {},
   "outputs": [
    {
     "name": "stdout",
     "output_type": "stream",
     "text": [
      "Collecting gtts\n",
      "  Downloading gTTS-2.2.1-py3-none-any.whl (24 kB)\n",
      "Requirement already satisfied: six in /opt/conda/lib/python3.8/site-packages (from gtts) (1.15.0)\n",
      "Requirement already satisfied: click in /opt/conda/lib/python3.8/site-packages (from gtts) (7.1.2)\n",
      "Requirement already satisfied: requests in /opt/conda/lib/python3.8/site-packages (from gtts) (2.25.0)\n",
      "Requirement already satisfied: urllib3<1.27,>=1.21.1 in /opt/conda/lib/python3.8/site-packages (from requests->gtts) (1.25.11)\n",
      "Requirement already satisfied: certifi>=2017.4.17 in /opt/conda/lib/python3.8/site-packages (from requests->gtts) (2020.12.5)\n",
      "Requirement already satisfied: chardet<4,>=3.0.2 in /opt/conda/lib/python3.8/site-packages (from requests->gtts) (3.0.4)\n",
      "Requirement already satisfied: idna<3,>=2.5 in /opt/conda/lib/python3.8/site-packages (from requests->gtts) (2.10)\n",
      "Installing collected packages: gtts\n",
      "Successfully installed gtts-2.2.1\n"
     ]
    }
   ],
   "source": [
    "! pip install gtts"
   ]
  },
  {
   "cell_type": "code",
   "execution_count": 4,
   "metadata": {},
   "outputs": [],
   "source": [
    "import gtts\n",
    "from IPython.display import display, Audio"
   ]
  },
  {
   "cell_type": "code",
   "execution_count": 5,
   "metadata": {},
   "outputs": [
    {
     "data": {
      "text/html": [
       "\n",
       "                <audio  controls=\"controls\" autoplay=\"autoplay\">\n",
       "                    <source src=\"data:audio/mpeg;base64,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\" type=\"audio/mpeg\" />\n",
       "                    Your browser does not support the audio element.\n",
       "                </audio>\n",
       "              "
      ],
      "text/plain": [
       "<IPython.lib.display.Audio object>"
      ]
     },
     "metadata": {},
     "output_type": "display_data"
    }
   ],
   "source": [
    "def speak(text, lang='en', autoplay=True, echo=False):\n",
    "    '''\n",
    "    This will use gTTS to take your text and speak it.\n",
    "    \n",
    "    Example:\n",
    "    \n",
    "    speak(\"Hello!\")\n",
    "    '''\n",
    "    speech = gtts.gTTS(text, slow=False, lang=lang)\n",
    "    speech.save(\"demo.mp3\")\n",
    "    if echo:\n",
    "        print(text)\n",
    "    return Audio(\"demo.mp3\",autoplay=autoplay)\n",
    "\n",
    "display(speak(\"hello\"))"
   ]
  },
  {
   "cell_type": "code",
   "execution_count": null,
   "metadata": {},
   "outputs": [],
   "source": []
  }
 ],
 "metadata": {
  "anaconda-cloud": {},
  "kernelspec": {
   "display_name": "Python 3",
   "language": "python",
   "name": "python3"
  },
  "language_info": {
   "codemirror_mode": {
    "name": "ipython",
    "version": 3
   },
   "file_extension": ".py",
   "mimetype": "text/x-python",
   "name": "python",
   "nbconvert_exporter": "python",
   "pygments_lexer": "ipython3",
   "version": "3.8.6"
  }
 },
 "nbformat": 4,
 "nbformat_minor": 1
}
