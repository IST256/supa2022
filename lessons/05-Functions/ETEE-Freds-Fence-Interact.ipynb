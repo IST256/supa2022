{
 "cells": [
  {
   "cell_type": "code",
   "execution_count": 2,
   "metadata": {},
   "outputs": [
    {
     "name": "stdout",
     "output_type": "stream",
     "text": [
      "Enter length of Yard: 10\n",
      "Enter width of Yard: 20\n",
      "60.0 10\n"
     ]
    }
   ],
   "source": [
    "# orginal fred's fence\n",
    "import math \n",
    "length = float(input(\"Enter length of Yard: \"))\n",
    "width = float(input(\"Enter width of Yard: \"))\n",
    "perimeter = 2 * (length + width)\n",
    "sections = math.ceil(perimeter / 6)\n",
    "print(perimeter, sections)"
   ]
  },
  {
   "cell_type": "code",
   "execution_count": 7,
   "metadata": {},
   "outputs": [
    {
     "name": "stdout",
     "output_type": "stream",
     "text": [
      "When length=10,Width=20, EXPECT: fence_calc(10,20)==(60, 10), ACTUAL:  (60, 10)\n"
     ]
    }
   ],
   "source": [
    "# Re-Factor into a function:\n",
    "def fence_calc(length, width):\n",
    "    perimeter = 2 * (length + width )\n",
    "    sections = math.ceil(perimeter / 6)\n",
    "    return perimeter, sections # return 2 things\n",
    "\n",
    "# test\n",
    "print(f\"When length=10,Width=20, EXPECT: fence_calc(10,20)==(60, 10), ACTUAL: \", fence_calc(10,20))\n"
   ]
  },
  {
   "cell_type": "code",
   "execution_count": 10,
   "metadata": {},
   "outputs": [
    {
     "data": {
      "text/html": [
       "<h1>Fred's Fence Calculator</h1>"
      ],
      "text/plain": [
       "<IPython.core.display.HTML object>"
      ]
     },
     "metadata": {},
     "output_type": "display_data"
    },
    {
     "data": {
      "application/vnd.jupyter.widget-view+json": {
       "model_id": "d08802ae4a4944e98a90c3e2dd8d104d",
       "version_major": 2,
       "version_minor": 0
      },
      "text/plain": [
       "interactive(children=(IntSlider(value=50, description='length'), IntSlider(value=50, description='width'), But…"
      ]
     },
     "metadata": {},
     "output_type": "display_data"
    }
   ],
   "source": [
    "from IPython.display import display, HTML\n",
    "from ipywidgets import interact_manual\n",
    "\n",
    "display(HTML(\"<h1>Fred's Fence Calculator</h1>\"))\n",
    "@interact_manual(length=(0,100), width=(0,100))\n",
    "def main(length, width):\n",
    "    perimeter, sections = fence_calc(length, width)\n",
    "    display(f\"Total Fence Length: {perimeter}\")\n",
    "    display(f\"Number of 6ft sections required: {sections}\")"
   ]
  },
  {
   "cell_type": "code",
   "execution_count": null,
   "metadata": {},
   "outputs": [],
   "source": []
  }
 ],
 "metadata": {
  "kernelspec": {
   "display_name": "Python 3",
   "language": "python",
   "name": "python3"
  },
  "language_info": {
   "codemirror_mode": {
    "name": "ipython",
    "version": 3
   },
   "file_extension": ".py",
   "mimetype": "text/x-python",
   "name": "python",
   "nbconvert_exporter": "python",
   "pygments_lexer": "ipython3",
   "version": "3.8.6"
  }
 },
 "nbformat": 4,
 "nbformat_minor": 4
}
