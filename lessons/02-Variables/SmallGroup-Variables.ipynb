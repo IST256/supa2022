{
 "cells": [
  {
   "cell_type": "markdown",
   "metadata": {},
   "source": [
    "# Now You Code In-Class: Boxes Of Flooring\n",
    "\n",
    "## The Problem\n",
    "\n",
    "High's Home Improvement store has hired you to write a mobile app which will estimate the number of boxes of flooring required to cover a room. \n",
    "\n",
    "Things to note:\n",
    "\n",
    "- One box of flooring covers 24.5 square feet. \n",
    "- You should account for 10% waste in any project. This means you should buy 10% more flooring than you need.\n",
    "\n",
    "Write a python program which given the length and width measurement of a room will correctly calculate:\n",
    "\n",
    "- The area of the room in square feet\n",
    "- The project area when accounting for an additional 10% waste\n",
    "- The number of boxes of flooring required, rounded up to the nearest whole box (since we can only purchase complete boxes). \n",
    "\n",
    "Example: \n",
    "\n",
    "```\n",
    "*** Flooring Calculator ***\n",
    "Project Name: Mud Room\n",
    "Length of room (ft): 3\n",
    "Width of room (ft): 6\n",
    "\n",
    "Calculations....\n",
    "Project: Mud Room\n",
    "Room Area: ==> 18.0 square ft\n",
    "Project Area: 18.0 square ft + 1.8 (10% waste) ==> 19.8 square ft\n",
    "Number of boxes at 24.5 square ft: ==> 1\n",
    "```\n",
    "\n",
    "NOTES:\n",
    "\n",
    "- Display the output to 1 decimal place.\n",
    "- Round up your boxes of flooring to the nearest whole box. \n"
   ]
  },
  {
   "cell_type": "markdown",
   "metadata": {},
   "source": [
    "## Problem Solving Approach: Understanding the Problem By Example\n",
    "\n",
    "Before you can write code for a solution, you need to ensure you have a very good understanding of the problem. One approach to get a better understanding of the problem is to work through the examples yourself. If you can do the steps yourself, its rather trivial to explain the steps to a computer. \n",
    "\n",
    "\n",
    "### Example 1\n",
    "\n",
    "Inputs:\n",
    "\n",
    "- Length: 5\n",
    "- Width: 4\n",
    "\n",
    "Outputs:\n",
    "\n",
    "- Room Area: 20 (length x width)\n",
    "- Extra = Room Area X 0.1\n",
    "- Project Area: Room Area + Extra\n",
    "- Number of Boxes:  Project Area / 24.5\n",
    "- Boxes Rounded Up to Nearest Whole Number: math.ciel(number of boxes)\n",
    "\n",
    "\n",
    "### Example 1\n",
    "\n",
    "Inputs:\n",
    "\n",
    "- Length: 7\n",
    "- Width: 7\n",
    "\n",
    "Outputs:\n",
    "\n",
    "- Room Area: PROMPT 5\n",
    "- Project Area: PROMPT 6\n",
    "- Number of Boxes: PROMPT 7\n",
    "- Boxes Rounded Up to Nearest Whole Number: math.ciel(*\n"
   ]
  },
  {
   "cell_type": "markdown",
   "metadata": {
    "collapsed": true
   },
   "source": [
    "With a good understanding of the problem, we can move on to the problem analysis.\n",
    "\n",
    "\n",
    "## Part 1: Problem Analysis\n",
    "\n",
    "Inputs: \n",
    "\n",
    "- length and width\n",
    "\n",
    "Outputs:\n",
    "\n",
    "- number of boxes of flooring required\n",
    "\n",
    "Algorithm (Steps in Program):\n",
    "\n",
    "```\n",
    "input length\n",
    "input width\n",
    "area = length times width\n",
    "extra = area times 10%\n",
    "project area = area +extra\n",
    "boxes = project area divided by 24.5\n",
    "actual boxes = math.ceiling boxes\n",
    "output actual boxes \n",
    "\n",
    "```\n",
    "\n",
    "\n",
    "### Can you perform each step in Code?\n",
    "\n",
    "Now review your algorithm. Can you translate each step of the algorithm into a line of code trivially? That which we cannot do, we will need to look up. Problem solving is often a bunch of little problems!\n",
    "\n",
    "- How do I Display the output to 1 decimal place.\n",
    "- Round up your boxes of flooring to the nearest whole box.  (How do I round a float up to the next whole number in python?)"
   ]
  },
  {
   "cell_type": "code",
   "execution_count": 24,
   "metadata": {},
   "outputs": [
    {
     "name": "stdout",
     "output_type": "stream",
     "text": [
      "Enter the length: 6\n",
      "Enter the width: 7\n",
      "You need to purchase 2 boxes\n"
     ]
    }
   ],
   "source": [
    "# PROMPT 12: Write code here \n",
    "import math\n",
    "length = float(input(\"Enter the length: \"))\n",
    "width = float(input(\"Enter the width: \"))\n",
    "area = length * width\n",
    "extra = area * 0.1\n",
    "project_area = area + extra\n",
    "boxes = project_area / 24.5\n",
    "actual_boxes = math.ceil(boxes)\n",
    "print(f\"You need to purchase {actual_boxes} boxes\")\n"
   ]
  },
  {
   "cell_type": "markdown",
   "metadata": {},
   "source": [
    "### Making it better !\n",
    "\n",
    "In reality, each brand of flooring will have different square footage per box. Some brands have 24.5 sqft per box, while others will have a different number.\n",
    "\n",
    "Copy and paste the code below so you have an additional copy. Re-Write the program so that 24.5 is a variable.  \n",
    "PROMPT 13\n",
    "\n",
    "Then re-write the program to ask for the square footage of the box as input.   \n",
    "PROMPT 14\n"
   ]
  },
  {
   "cell_type": "code",
   "execution_count": null,
   "metadata": {},
   "outputs": [],
   "source": [
    "# Code again\n"
   ]
  },
  {
   "cell_type": "code",
   "execution_count": 25,
   "metadata": {},
   "outputs": [
    {
     "data": {
      "application/javascript": [
       "IPython.notebook.save_notebook()"
      ]
     },
     "metadata": {},
     "output_type": "display_data"
    },
    {
     "data": {
      "text/html": [
       "<h2>Submission Details</h2>"
      ],
      "text/plain": [
       "<IPython.core.display.HTML object>"
      ]
     },
     "metadata": {},
     "output_type": "display_data"
    },
    {
     "data": {
      "text/html": [
       "<ul><li>Your NetID: <code>mafudge</code></li><li>Instructor NetID: <code>mafudge</code></li><li>Blackboard Gradebook Assignment Name: <code>S02</code></li><li>Total Points: <code>1</code></li><li>File You Are Submitting: <code>SmallGroup-Variables.ipynb</code></li><li>Date/Time of Your Submission: <code>09/08/2021 03:34 PM</code></li></ul>"
      ],
      "text/plain": [
       "<IPython.core.display.HTML object>"
      ]
     },
     "metadata": {},
     "output_type": "display_data"
    },
    {
     "data": {
      "text/html": [
       "<p style='color: #993333;'><i class='fa fa-save'></i> <b>To ensure your instructor has the most recent version, press <code>CTRL+S</code> to save your work before submitting.</b></p>"
      ],
      "text/plain": [
       "<IPython.core.display.HTML object>"
      ]
     },
     "metadata": {},
     "output_type": "display_data"
    },
    {
     "data": {
      "application/vnd.jupyter.widget-view+json": {
       "model_id": "ef2cc4f36a1b4dc38bd898618d4ad18f",
       "version_major": 2,
       "version_minor": 0
      },
      "text/plain": [
       "HBox(children=(Button(button_style='success', description='Submit', icon='check-circle', style=ButtonStyle(), …"
      ]
     },
     "metadata": {},
     "output_type": "display_data"
    },
    {
     "data": {
      "application/vnd.jupyter.widget-view+json": {
       "model_id": "9983570440294b22a2dc9322317e569e",
       "version_major": 2,
       "version_minor": 0
      },
      "text/plain": [
       "Output()"
      ]
     },
     "metadata": {},
     "output_type": "display_data"
    }
   ],
   "source": [
    "# run this code to turn in your work!\n",
    "from coursetools.submission import Submission\n",
    "Submission().submit_now()"
   ]
  },
  {
   "cell_type": "code",
   "execution_count": null,
   "metadata": {},
   "outputs": [],
   "source": []
  }
 ],
 "metadata": {
  "anaconda-cloud": {},
  "kernelspec": {
   "display_name": "Python 3 (ipykernel)",
   "language": "python",
   "name": "python3"
  },
  "language_info": {
   "codemirror_mode": {
    "name": "ipython",
    "version": 3
   },
   "file_extension": ".py",
   "mimetype": "text/x-python",
   "name": "python",
   "nbconvert_exporter": "python",
   "pygments_lexer": "ipython3",
   "version": "3.9.6"
  },
  "toc": {
   "base_numbering": 1,
   "nav_menu": {},
   "number_sections": false,
   "sideBar": false,
   "skip_h1_title": false,
   "title_cell": "Table of Contents",
   "title_sidebar": "Contents",
   "toc_cell": false,
   "toc_position": {},
   "toc_section_display": false,
   "toc_window_display": false
  },
  "varInspector": {
   "cols": {
    "lenName": 16,
    "lenType": 16,
    "lenVar": 40
   },
   "kernels_config": {
    "python": {
     "delete_cmd_postfix": "",
     "delete_cmd_prefix": "del ",
     "library": "var_list.py",
     "varRefreshCmd": "print(var_dic_list())"
    },
    "r": {
     "delete_cmd_postfix": ") ",
     "delete_cmd_prefix": "rm(",
     "library": "var_list.r",
     "varRefreshCmd": "cat(var_dic_list()) "
    }
   },
   "position": {
    "height": "277.839px",
    "left": "710.429px",
    "right": "20px",
    "top": "98px",
    "width": "351px"
   },
   "types_to_exclude": [
    "module",
    "function",
    "builtin_function_or_method",
    "instance",
    "_Feature"
   ],
   "window_display": false
  }
 },
 "nbformat": 4,
 "nbformat_minor": 1
}
